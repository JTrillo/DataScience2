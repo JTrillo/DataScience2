{
 "cells": [
  {
   "cell_type": "markdown",
   "metadata": {},
   "source": [
    "# Presentación Grupo 6\n",
    "\n",
    "## Machine Learning\n",
    "\n",
    "### Autores: Yasser Aoujil, Joaquín Trillo Escribano , Iván José Alba García\n",
    "<br>\n",
    "<br>\n"
   ]
  },
  {
   "cell_type": "code",
   "execution_count": 1,
   "metadata": {},
   "outputs": [],
   "source": [
    "import matplotlib.pyplot as plt\n",
    "from pymongo import MongoClient, GEOSPHERE, ASCENDING, DESCENDING\n",
    "from datetime import datetime\n",
    "import pandas as pd\n",
    "import matplotlib.pyplot as plt\n",
    "from sklearn import model_selection\n",
    "from sklearn.metrics import classification_report\n",
    "from sklearn.metrics import confusion_matrix\n",
    "from sklearn.metrics import accuracy_score\n",
    "from sklearn.linear_model import LogisticRegression\n",
    "from sklearn.tree import DecisionTreeClassifier\n",
    "from sklearn.neighbors import KNeighborsClassifier\n",
    "from sklearn.discriminant_analysis import LinearDiscriminantAnalysis\n",
    "from sklearn.naive_bayes import GaussianNB\n",
    "from sklearn.svm import SVC\n",
    "from sklearn.cluster import KMeans\n",
    "from sklearn import datasets\n",
    "import numpy as np\n",
    "import warnings\n",
    "warnings.filterwarnings('ignore')"
   ]
  },
  {
   "cell_type": "code",
   "execution_count": 2,
   "metadata": {},
   "outputs": [],
   "source": [
    "def get_session_mon(db_name):\n",
    "    \"\"\"\n",
    "    :param db_name: Nombre de la base de datos de los incidentes y los distritos\n",
    "    :return: Objeto de tipo DataBase con una conexión a la base de datos local\n",
    "    \"\"\"\n",
    "    client = MongoClient()\n",
    "    db = client[db_name]\n",
    "    return db\n",
    "sfdb_mon = get_session_mon(\"san_francisco_incidents\")  # Obtenemos una sesión con la bd usando su nombre"
   ]
  },
  {
   "cell_type": "code",
   "execution_count": 3,
   "metadata": {},
   "outputs": [
    {
     "data": {
      "text/plain": [
       "100000"
      ]
     },
     "execution_count": 3,
     "metadata": {},
     "output_type": "execute_result"
    }
   ],
   "source": [
    "# Especificamos los campos que queremos para seleccionar desde MongoDB\n",
    "target_fields = {\n",
    "    'Category':1,\n",
    "    'DayOfWeek':1,\n",
    "    'PdDistrict':1,\n",
    "    'Resolution':1\n",
    "}\n",
    "# Select lo hacemos usando el primero sort para ordenar según la fecha y luego limitamos sólo a 10000\n",
    "incidents_ml = sfdb_mon.incidents.find({},target_fields).sort('Date', DESCENDING).limit(100000);\n",
    "df_ml = pd.DataFrame(list(incidents_ml))\n",
    "df_ml = df_ml.drop(['_id'], axis=1) # Quitamos el campo _id que siempre viene por defecto\n",
    "df_ml.__len__() # Vemos el tamaño del df que debe ser 10000"
   ]
  },
  {
   "cell_type": "code",
   "execution_count": 4,
   "metadata": {},
   "outputs": [
    {
     "data": {
      "text/html": [
       "<div>\n",
       "<style scoped>\n",
       "    .dataframe tbody tr th:only-of-type {\n",
       "        vertical-align: middle;\n",
       "    }\n",
       "\n",
       "    .dataframe tbody tr th {\n",
       "        vertical-align: top;\n",
       "    }\n",
       "\n",
       "    .dataframe thead th {\n",
       "        text-align: right;\n",
       "    }\n",
       "</style>\n",
       "<table border=\"1\" class=\"dataframe\">\n",
       "  <thead>\n",
       "    <tr style=\"text-align: right;\">\n",
       "      <th></th>\n",
       "      <th>Category</th>\n",
       "      <th>DayOfWeek</th>\n",
       "      <th>PdDistrict</th>\n",
       "      <th>Resolution</th>\n",
       "    </tr>\n",
       "  </thead>\n",
       "  <tbody>\n",
       "    <tr>\n",
       "      <th>0</th>\n",
       "      <td>KIDNAPPING</td>\n",
       "      <td>Saturday</td>\n",
       "      <td>MISSION</td>\n",
       "      <td>ARREST, BOOKED</td>\n",
       "    </tr>\n",
       "    <tr>\n",
       "      <th>1</th>\n",
       "      <td>SECONDARY CODES</td>\n",
       "      <td>Saturday</td>\n",
       "      <td>MISSION</td>\n",
       "      <td>ARREST, BOOKED</td>\n",
       "    </tr>\n",
       "    <tr>\n",
       "      <th>2</th>\n",
       "      <td>OTHER OFFENSES</td>\n",
       "      <td>Saturday</td>\n",
       "      <td>MISSION</td>\n",
       "      <td>ARREST, BOOKED</td>\n",
       "    </tr>\n",
       "    <tr>\n",
       "      <th>3</th>\n",
       "      <td>ASSAULT</td>\n",
       "      <td>Saturday</td>\n",
       "      <td>MISSION</td>\n",
       "      <td>ARREST, BOOKED</td>\n",
       "    </tr>\n",
       "    <tr>\n",
       "      <th>4</th>\n",
       "      <td>VANDALISM</td>\n",
       "      <td>Saturday</td>\n",
       "      <td>NORTHERN</td>\n",
       "      <td>NONE</td>\n",
       "    </tr>\n",
       "  </tbody>\n",
       "</table>\n",
       "</div>"
      ],
      "text/plain": [
       "          Category DayOfWeek PdDistrict      Resolution\n",
       "0       KIDNAPPING  Saturday    MISSION  ARREST, BOOKED\n",
       "1  SECONDARY CODES  Saturday    MISSION  ARREST, BOOKED\n",
       "2   OTHER OFFENSES  Saturday    MISSION  ARREST, BOOKED\n",
       "3          ASSAULT  Saturday    MISSION  ARREST, BOOKED\n",
       "4        VANDALISM  Saturday   NORTHERN            NONE"
      ]
     },
     "execution_count": 4,
     "metadata": {},
     "output_type": "execute_result"
    }
   ],
   "source": [
    "df_ml.head()"
   ]
  },
  {
   "cell_type": "markdown",
   "metadata": {},
   "source": [
    "## Classification"
   ]
  },
  {
   "cell_type": "code",
   "execution_count": 5,
   "metadata": {},
   "outputs": [
    {
     "data": {
      "text/html": [
       "<div>\n",
       "<style scoped>\n",
       "    .dataframe tbody tr th:only-of-type {\n",
       "        vertical-align: middle;\n",
       "    }\n",
       "\n",
       "    .dataframe tbody tr th {\n",
       "        vertical-align: top;\n",
       "    }\n",
       "\n",
       "    .dataframe thead th {\n",
       "        text-align: right;\n",
       "    }\n",
       "</style>\n",
       "<table border=\"1\" class=\"dataframe\">\n",
       "  <thead>\n",
       "    <tr style=\"text-align: right;\">\n",
       "      <th></th>\n",
       "      <th>Category</th>\n",
       "      <th>DayOfWeek</th>\n",
       "      <th>PdDistrict</th>\n",
       "      <th>Resolution</th>\n",
       "    </tr>\n",
       "  </thead>\n",
       "  <tbody>\n",
       "    <tr>\n",
       "      <th>0</th>\n",
       "      <td>KIDNAPPING</td>\n",
       "      <td>2</td>\n",
       "      <td>3</td>\n",
       "      <td>0</td>\n",
       "    </tr>\n",
       "    <tr>\n",
       "      <th>1</th>\n",
       "      <td>SECONDARY CODES</td>\n",
       "      <td>2</td>\n",
       "      <td>3</td>\n",
       "      <td>0</td>\n",
       "    </tr>\n",
       "    <tr>\n",
       "      <th>2</th>\n",
       "      <td>OTHER OFFENSES</td>\n",
       "      <td>2</td>\n",
       "      <td>3</td>\n",
       "      <td>0</td>\n",
       "    </tr>\n",
       "    <tr>\n",
       "      <th>3</th>\n",
       "      <td>ASSAULT</td>\n",
       "      <td>2</td>\n",
       "      <td>3</td>\n",
       "      <td>0</td>\n",
       "    </tr>\n",
       "    <tr>\n",
       "      <th>4</th>\n",
       "      <td>VANDALISM</td>\n",
       "      <td>2</td>\n",
       "      <td>4</td>\n",
       "      <td>8</td>\n",
       "    </tr>\n",
       "  </tbody>\n",
       "</table>\n",
       "</div>"
      ],
      "text/plain": [
       "          Category  DayOfWeek  PdDistrict  Resolution\n",
       "0       KIDNAPPING          2           3           0\n",
       "1  SECONDARY CODES          2           3           0\n",
       "2   OTHER OFFENSES          2           3           0\n",
       "3          ASSAULT          2           3           0\n",
       "4        VANDALISM          2           4           8"
      ]
     },
     "execution_count": 5,
     "metadata": {},
     "output_type": "execute_result"
    }
   ],
   "source": [
    "class_df = df_ml.copy() # Dataframe de clasificación\n",
    "# Convertimos los demás campos a tipo Categoría de pandas\n",
    "class_df.PdDistrict = pd.Categorical(class_df.PdDistrict)\n",
    "class_df.DayOfWeek = pd.Categorical(class_df.DayOfWeek)\n",
    "class_df.Resolution = pd.Categorical(class_df.Resolution)\n",
    "# En vez de Strings vamos a guardar los códigos en los valores\n",
    "class_df['PdDistrict'] = class_df.PdDistrict.cat.codes\n",
    "class_df['DayOfWeek'] = class_df.DayOfWeek.cat.codes\n",
    "class_df['Resolution'] = class_df.Resolution.cat.codes\n",
    "class_df.head()"
   ]
  },
  {
   "cell_type": "code",
   "execution_count": 6,
   "metadata": {},
   "outputs": [
    {
     "name": "stdout",
     "output_type": "stream",
     "text": [
      "LR: 0.376425 (0.006599)\n",
      "LDA: 0.376650 (0.006621)\n",
      "KNN: 0.279412 (0.015473)\n",
      "CART: 0.378100 (0.006092)\n",
      "NB: 0.072463 (0.003296)\n"
     ]
    }
   ],
   "source": [
    "# Split-out validation dataset\n",
    "array = class_df.values\n",
    "X = array[:,1:4]\n",
    "Y = array[:,0] # El campo categoría es el primero\n",
    "validation_size = 0.20 # Usamos 20% para la validación y el resto para el entrenamiento\n",
    "seed = 7\n",
    "X_train, X_validation, Y_train, Y_validation = model_selection.train_test_split(X, Y, test_size=validation_size, random_state=seed)\n",
    "scoring = 'accuracy'\n",
    "\n",
    "# Spot Check Algorithms\n",
    "models = []\n",
    "models.append(('LR', LogisticRegression()))\n",
    "models.append(('LDA', LinearDiscriminantAnalysis()))\n",
    "models.append(('KNN', KNeighborsClassifier()))\n",
    "models.append(('CART', DecisionTreeClassifier()))\n",
    "models.append(('NB', GaussianNB()))\n",
    "# evaluate each model in turn\n",
    "results = []\n",
    "names = []\n",
    "for name, model in models:\n",
    "    kfold = model_selection.KFold(n_splits=10, random_state=seed)\n",
    "    cv_results = model_selection.cross_val_score(model, X_train, Y_train, cv=kfold, scoring=scoring)\n",
    "    results.append(cv_results)\n",
    "    names.append(name)\n",
    "    msg = \"%s: %f (%f)\" % (name, cv_results.mean(), cv_results.std())\n",
    "    print(msg)"
   ]
  },
  {
   "cell_type": "code",
   "execution_count": 7,
   "metadata": {},
   "outputs": [
    {
     "data": {
      "image/png": "[encoded data removed]",
      "text/plain": [
       "<Figure size 432x288 with 1 Axes>"
      ]
     },
     "metadata": {},
     "output_type": "display_data"
    }
   ],
   "source": [
    "# Comparamos los algoritmos\n",
    "fig = plt.figure()\n",
    "fig.suptitle('Algorithm Comparison')\n",
    "ax = fig.add_subplot(111)\n",
    "plt.boxplot(results)\n",
    "ax.set_xticklabels(names)\n",
    "plt.show()"
   ]
  },
  {
   "cell_type": "code",
   "execution_count": 8,
   "metadata": {},
   "outputs": [
    {
     "name": "stdout",
     "output_type": "stream",
     "text": [
      "0.3699\n",
      "[[ 0  0  0 ...  0  0  0]\n",
      " [ 0 14  0 ...  0 10  1]\n",
      " [ 0  0  0 ...  0  0  0]\n",
      " ...\n",
      " [ 0  1  0 ...  5  0  0]\n",
      " [ 0 11  0 ...  0 10  0]\n",
      " [ 0  3  0 ...  0  0  0]]\n",
      "                             precision    recall  f1-score   support\n",
      "\n",
      "                      ARSON       0.00      0.00      0.00        41\n",
      "                    ASSAULT       0.16      0.01      0.01      1823\n",
      "                 BAD CHECKS       0.00      0.00      0.00         2\n",
      "                    BRIBERY       0.00      0.00      0.00         5\n",
      "                   BURGLARY       0.20      0.00      0.00       808\n",
      "         DISORDERLY CONDUCT       0.00      0.00      0.00        44\n",
      "DRIVING UNDER THE INFLUENCE       0.00      0.00      0.00        28\n",
      "              DRUG/NARCOTIC       0.19      0.10      0.13       421\n",
      "                DRUNKENNESS       0.00      0.00      0.00        53\n",
      "               EMBEZZLEMENT       0.00      0.00      0.00        18\n",
      "                  EXTORTION       0.00      0.00      0.00         6\n",
      "            FAMILY OFFENSES       0.00      0.00      0.00         4\n",
      "     FORGERY/COUNTERFEITING       0.00      0.00      0.00        67\n",
      "                      FRAUD       0.00      0.00      0.00       317\n",
      "                   GAMBLING       0.00      0.00      0.00         3\n",
      "                 KIDNAPPING       0.00      0.00      0.00        36\n",
      "              LARCENY/THEFT       0.39      0.96      0.56      6175\n",
      "                LIQUOR LAWS       0.00      0.00      0.00         8\n",
      "                  LOITERING       0.00      0.00      0.00         3\n",
      "             MISSING PERSON       0.42      0.02      0.04       623\n",
      "               NON-CRIMINAL       0.37      0.01      0.02      2291\n",
      "             OTHER OFFENSES       0.31      0.58      0.40      2286\n",
      "    PORNOGRAPHY/OBSCENE MAT       0.00      0.00      0.00         3\n",
      "               PROSTITUTION       0.00      0.00      0.00        62\n",
      "          RECOVERED VEHICLE       0.00      0.00      0.00        78\n",
      "                    ROBBERY       0.00      0.00      0.00       454\n",
      "                    RUNAWAY       0.00      0.00      0.00        42\n",
      "            SECONDARY CODES       0.05      0.00      0.01       264\n",
      "     SEX OFFENSES, FORCIBLE       0.00      0.00      0.00       128\n",
      " SEX OFFENSES, NON FORCIBLE       0.00      0.00      0.00         5\n",
      "            STOLEN PROPERTY       0.00      0.00      0.00        99\n",
      "                    SUICIDE       0.00      0.00      0.00        17\n",
      "             SUSPICIOUS OCC       0.09      0.00      0.00       722\n",
      "                       TREA       0.00      0.00      0.00         1\n",
      "                   TRESPASS       0.00      0.00      0.00       186\n",
      "                  VANDALISM       0.00      0.00      0.00      1234\n",
      "              VEHICLE THEFT       0.22      0.01      0.01       737\n",
      "                   WARRANTS       0.13      0.01      0.03       681\n",
      "                WEAPON LAWS       0.00      0.00      0.00       225\n",
      "\n",
      "                avg / total       0.25      0.37      0.23     20000\n",
      "\n"
     ]
    }
   ],
   "source": [
    "# Viendo el resultado, el CART ha sido el mejor\n",
    "CART = DecisionTreeClassifier()\n",
    "CART.fit(X_train, Y_train)\n",
    "predictions = CART.predict(X_validation)\n",
    "\n",
    "print(accuracy_score(Y_validation, predictions))\n",
    "print(confusion_matrix(Y_validation, predictions))\n",
    "print(classification_report(Y_validation, predictions))"
   ]
  },
  {
   "cell_type": "markdown",
   "metadata": {},
   "source": [
    "## Clustering"
   ]
  },
  {
   "cell_type": "code",
   "execution_count": 9,
   "metadata": {},
   "outputs": [
    {
     "data": {
      "text/html": [
       "<div>\n",
       "<style scoped>\n",
       "    .dataframe tbody tr th:only-of-type {\n",
       "        vertical-align: middle;\n",
       "    }\n",
       "\n",
       "    .dataframe tbody tr th {\n",
       "        vertical-align: top;\n",
       "    }\n",
       "\n",
       "    .dataframe thead th {\n",
       "        text-align: right;\n",
       "    }\n",
       "</style>\n",
       "<table border=\"1\" class=\"dataframe\">\n",
       "  <thead>\n",
       "    <tr style=\"text-align: right;\">\n",
       "      <th></th>\n",
       "      <th>Category</th>\n",
       "      <th>DayOfWeek</th>\n",
       "      <th>Resolution</th>\n",
       "    </tr>\n",
       "  </thead>\n",
       "  <tbody>\n",
       "    <tr>\n",
       "      <th>0</th>\n",
       "      <td>KIDNAPPING</td>\n",
       "      <td>Saturday</td>\n",
       "      <td>ARREST, BOOKED</td>\n",
       "    </tr>\n",
       "    <tr>\n",
       "      <th>1</th>\n",
       "      <td>SECONDARY CODES</td>\n",
       "      <td>Saturday</td>\n",
       "      <td>ARREST, BOOKED</td>\n",
       "    </tr>\n",
       "    <tr>\n",
       "      <th>2</th>\n",
       "      <td>OTHER OFFENSES</td>\n",
       "      <td>Saturday</td>\n",
       "      <td>ARREST, BOOKED</td>\n",
       "    </tr>\n",
       "    <tr>\n",
       "      <th>3</th>\n",
       "      <td>ASSAULT</td>\n",
       "      <td>Saturday</td>\n",
       "      <td>ARREST, BOOKED</td>\n",
       "    </tr>\n",
       "    <tr>\n",
       "      <th>4</th>\n",
       "      <td>VANDALISM</td>\n",
       "      <td>Saturday</td>\n",
       "      <td>NONE</td>\n",
       "    </tr>\n",
       "  </tbody>\n",
       "</table>\n",
       "</div>"
      ],
      "text/plain": [
       "          Category DayOfWeek      Resolution\n",
       "0       KIDNAPPING  Saturday  ARREST, BOOKED\n",
       "1  SECONDARY CODES  Saturday  ARREST, BOOKED\n",
       "2   OTHER OFFENSES  Saturday  ARREST, BOOKED\n",
       "3          ASSAULT  Saturday  ARREST, BOOKED\n",
       "4        VANDALISM  Saturday            NONE"
      ]
     },
     "execution_count": 9,
     "metadata": {},
     "output_type": "execute_result"
    }
   ],
   "source": [
    "# Dataframe del cluster, copiado del dataframe original, y hay que hacer el mismo tratamiento\n",
    "# y limpiza que se le ha hecho al de clasificación\n",
    "df_cluster = df_ml.copy()\n",
    "df_target = df_ml[['PdDistrict']]\n",
    "df_cluster = df_cluster.drop(['PdDistrict'], axis=1)\n",
    "df_cluster.head()"
   ]
  },
  {
   "cell_type": "code",
   "execution_count": 10,
   "metadata": {},
   "outputs": [],
   "source": [
    "# Convertimos a tipo Categorical y luego cambiamos los valores a tipo numérico\n",
    "df_cluster.Category = pd.Categorical(df_cluster.Category)\n",
    "df_cluster.DayOfWeek = pd.Categorical(df_cluster.DayOfWeek)\n",
    "df_cluster.Resolution = pd.Categorical(df_cluster.Resolution)\n",
    "df_target.PdDistrict = pd.Categorical(df_target.PdDistrict)\n",
    "\n",
    "df_cluster['Category'] = df_cluster.Category.cat.codes\n",
    "df_cluster['DayOfWeek'] = df_cluster.DayOfWeek.cat.codes\n",
    "df_cluster['Resolution'] = df_cluster.Resolution.cat.codes\n",
    "df_target['PdDistrict'] = df_target.PdDistrict.cat.codes"
   ]
  },
  {
   "cell_type": "code",
   "execution_count": 11,
   "metadata": {},
   "outputs": [],
   "source": [
    "# Creamos un array de colores, un color por cada distrito\n",
    "colors = np.array(['red', 'green', 'blue','pink', 'yellow', 'purple', 'black', 'grey', 'brown', 'orange'])"
   ]
  },
  {
   "cell_type": "code",
   "execution_count": 12,
   "metadata": {},
   "outputs": [
    {
     "data": {
      "text/plain": [
       "array([4, 4, 4, ..., 3, 9, 4], dtype=int32)"
      ]
     },
     "execution_count": 12,
     "metadata": {},
     "output_type": "execute_result"
    }
   ],
   "source": [
    "# Pasamos a ajustar un modelo usando Kmeans con un k=10\n",
    "model = KMeans(n_clusters=10)\n",
    "model.fit(df_cluster)\n",
    "model.labels_"
   ]
  },
  {
   "cell_type": "code",
   "execution_count": 13,
   "metadata": {},
   "outputs": [
    {
     "data": {
      "text/plain": [
       "Text(0.5,1,\"Model's classification\")"
      ]
     },
     "execution_count": 13,
     "metadata": {},
     "output_type": "execute_result"
    },
    {
     "data": {
      "image/png": "[encoded data removed]",
      "text/plain": [
       "<Figure size 432x288 with 2 Axes>"
      ]
     },
     "metadata": {},
     "output_type": "display_data"
    }
   ],
   "source": [
    "# The fudge to reorder the cluster ids.\n",
    "predictedY = np.choose(model.labels_, [0,1,2,3,4,5,6,7,8,9]).astype(np.int64)\n",
    "# Ahora mostramos el resultado después de haber ajustado el modelo a los datos, vamosa  ver cómo quedan\n",
    "# los datos de categoría con respecto al día de la semana antes y después del ajuste.\n",
    "plt.subplot(1, 2, 1)\n",
    "plt.scatter(df_cluster['DayOfWeek'], df_cluster['Category'], c=colors[df_target['PdDistrict']], s=40 )\n",
    "plt.title('Before classification')\n",
    " \n",
    "# Plot the classifications according to the model\n",
    "plt.subplot(1, 2, 2)\n",
    "plt.scatter(df_cluster['DayOfWeek'], df_cluster['Category'], c=colors[predictedY], s=40)\n",
    "plt.title(\"Model's classification\")"
   ]
  }
 ],
 "metadata": {
  "kernelspec": {
   "display_name": "alldbs",
   "language": "python",
   "name": "alldbs"
  },
  "language_info": {
   "codemirror_mode": {
    "name": "ipython",
    "version": 3
   },
   "file_extension": ".py",
   "mimetype": "text/x-python",
   "name": "python",
   "nbconvert_exporter": "python",
   "pygments_lexer": "ipython3",
   "version": "3.6.5"
  }
 },
 "nbformat": 4,
 "nbformat_minor": 2
}
