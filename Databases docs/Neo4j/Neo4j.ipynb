{
 "cells": [
  {
   "cell_type": "markdown",
   "metadata": {
    "collapsed": true
   },
   "source": [
    "## Neo4j driver for Python"
   ]
  },
  {
   "cell_type": "code",
   "execution_count": 1,
   "metadata": {},
   "outputs": [],
   "source": [
    "from neo4j.v1 import GraphDatabase\n",
    "import matplotlib.pyplot as plt"
   ]
  },
  {
   "cell_type": "markdown",
   "metadata": {},
   "source": [
    "### SOME VARIABLES NEEDED FOR CONNECT TO THE DATABASE AND RETRIEVE DATA"
   ]
  },
  {
   "cell_type": "code",
   "execution_count": 2,
   "metadata": {},
   "outputs": [],
   "source": [
    "uri = \"bolt://localhost:7687\"  # DATABASE URI\n",
    "driver = GraphDatabase.driver(uri, auth=(\"neo4j\", \"admin\"))  # DRIVER NEO4J\n",
    "session = driver.session()  # SESSION\n",
    "tx = session.begin_transaction()  # TRANSACTION"
   ]
  },
  {
   "cell_type": "markdown",
   "metadata": {},
   "source": [
    "### WE DEFINE SOME METHODS"
   ]
  },
  {
   "cell_type": "code",
   "execution_count": 3,
   "metadata": {},
   "outputs": [],
   "source": [
    "def get_districts():  # DISTRICTS LIST\n",
    "    list_dis = []\n",
    "    for record in tx.run(\"MATCH (dis:District) RETURN dis.district\"):\n",
    "        aux = record[\"dis.district\"]\n",
    "        # print(aux)\n",
    "        list_dis.append(aux)\n",
    "    return list_dis\n",
    "\n",
    "\n",
    "def get_count_districts():  # NUMBER OF DISTRICTS\n",
    "    record = tx.run(\"MATCH (dis:District) RETURN count(dis)\")\n",
    "    count = record.single()[0]\n",
    "    return count\n",
    "\n",
    "\n",
    "def get_count_incidents_district(district):  # NUMBER OF INCIDENTS IN A DISTRICT\n",
    "    record = tx.run(\"MATCH (dis:District {district: $district}) RETURN size(()-[:WHERE]->(dis))\", district=district)\n",
    "    count = record.single()[0]\n",
    "    return count\n",
    "\n",
    "\n",
    "def get_categories():  # CATEGORIES LIST\n",
    "    list_cat = []\n",
    "    for record in tx.run(\"MATCH (cat:Category) RETURN cat.category\"):\n",
    "        aux = record[\"cat.category\"]\n",
    "        # print(aux)\n",
    "        list_cat.append(aux)\n",
    "    return list_cat\n",
    "\n",
    "\n",
    "def get_count_categories():  # NUMBER OF CATEGORIES\n",
    "    record = tx.run(\"MATCH (cat:Category) RETURN count(cat)\")\n",
    "    count = record.single()[0]\n",
    "    return count\n",
    "\n",
    "\n",
    "def get_count_incidents_category(category):  # NUMBER OF INCIDENTS OF A CATEGORY\n",
    "    record = tx.run(\"MATCH (cat:Category {category: $category}) RETURN size(()-[:WHAT]->(cat))\", category=category)\n",
    "    count = record.single()[0]\n",
    "    return count\n",
    "\n",
    "\n",
    "def get_count_incidents_district_category(district, category):  # NUMBER OF INCIDENTS IN A DISTRICT OF A CATEGORY\n",
    "    record = tx.run(\n",
    "        \"MATCH (cat:Category {category: $category}), (dis:District {district: $district}) RETURN size((cat)<-[\"\n",
    "        \":WHAT]-()-[:WHERE]->(dis))\",\n",
    "        district=district, category=category)\n",
    "    count = record.single()[0]\n",
    "    return count"
   ]
  },
  {
   "cell_type": "markdown",
   "metadata": {},
   "source": [
    "### TESTING METHODS"
   ]
  },
  {
   "cell_type": "code",
   "execution_count": 4,
   "metadata": {},
   "outputs": [
    {
     "name": "stdout",
     "output_type": "stream",
     "text": [
      "Number of districts: 10\n",
      "Number of categories: 39\n",
      "Number of incidents in TENDERLOIN: 128872\n",
      "Number of cases of DRUKENNESS: 9770\n",
      "Number of cases of DRUG/NARCOTIC in BAYVIEW: 9757\n"
     ]
    }
   ],
   "source": [
    "districts = get_districts()\n",
    "n_districts = get_count_districts()\n",
    "print(\"Number of districts: \" + str(n_districts))\n",
    "\n",
    "categories = get_categories()\n",
    "n_categories = get_count_categories()\n",
    "print(\"Number of categories: \" + str(n_categories))\n",
    "\n",
    "print(\"Number of incidents in TENDERLOIN: \" + str(get_count_incidents_district(\"TENDERLOIN\")))\n",
    "print(\"Number of cases of DRUKENNESS: \" + str(get_count_incidents_category(\"DRUNKENNESS\")))\n",
    "print(\"Number of cases of DRUG/NARCOTIC in BAYVIEW: \" + str(get_count_incidents_district_category(\"BAYVIEW\", \"DRUG/NARCOTIC\")))"
   ]
  },
  {
   "cell_type": "markdown",
   "metadata": {},
   "source": [
    "### LET'S PLOT A CHART!!"
   ]
  },
  {
   "cell_type": "code",
   "execution_count": 5,
   "metadata": {},
   "outputs": [
    {
     "data": {
      "image/png": "[encoded data removed]",
      "text/plain": [
       "<Figure size 432x288 with 1 Axes>"
      ]
     },
     "metadata": {},
     "output_type": "display_data"
    }
   ],
   "source": [
    "list_inc = []\n",
    "for dis in districts: # RETRIVE THE COUNT OF INCIDENTS FOR EACH DISTRICT\n",
    "    list_inc.append(get_count_incidents_district(dis))\n",
    "\n",
    "fig = plt.figure()\n",
    "plot = fig.add_subplot(111)\n",
    "\n",
    "xx = range(1, len(list_inc)+1)\n",
    "\n",
    "# BAR CHART\n",
    "plot.bar(xx, list_inc, width=0.5)\n",
    "plot.set_xticks(xx)\n",
    "plot.set_xticklabels(districts)\n",
    "plot.set_title('Incidents by district')\n",
    "plot.set_xlabel('Districts')\n",
    "plot.set_ylabel('Number of incidents')\n",
    "plot.tick_params(axis='both', which='major', labelsize=5)\n",
    "\n",
    "plt.show() # SHOW THE BAR CHART"
   ]
  },
  {
   "cell_type": "markdown",
   "metadata": {},
   "source": [
    "### CLOSE DATABASE SESSION"
   ]
  },
  {
   "cell_type": "code",
   "execution_count": 6,
   "metadata": {},
   "outputs": [],
   "source": [
    "session.close()"
   ]
  }
 ],
 "metadata": {
  "kernelspec": {
   "display_name": "Python 3",
   "language": "python",
   "name": "python3"
  },
  "language_info": {
   "codemirror_mode": {
    "name": "ipython",
    "version": 3
   },
   "file_extension": ".py",
   "mimetype": "text/x-python",
   "name": "python",
   "nbconvert_exporter": "python",
   "pygments_lexer": "ipython3",
   "version": "3.6.4"
  }
 },
 "nbformat": 4,
 "nbformat_minor": 1
}
